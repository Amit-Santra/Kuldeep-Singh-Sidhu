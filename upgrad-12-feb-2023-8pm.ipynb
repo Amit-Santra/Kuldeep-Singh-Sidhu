{
  "nbformat": 4,
  "nbformat_minor": 0,
  "metadata": {
    "colab": {
      "provenance": [],
      "authorship_tag": "ABX9TyNoBaGPsNIE3aDcLe6JYlWV"
    },
    "kernelspec": {
      "name": "python3",
      "display_name": "Python 3"
    },
    "language_info": {
      "name": "python"
    }
  },
  "cells": [
    {
      "cell_type": "code",
      "execution_count": 1,
      "metadata": {
        "colab": {
          "base_uri": "https://localhost:8080/"
        },
        "id": "NrgCxYdgFHfK",
        "outputId": "ad0664bc-5b34-4c7b-fb7e-aa2ba1528c4f"
      },
      "outputs": [
        {
          "output_type": "stream",
          "name": "stdout",
          "text": [
            "Lets start the hands-on\n"
          ]
        }
      ],
      "source": [
        "print('Lets start the hands-on')"
      ]
    },
    {
      "cell_type": "code",
      "source": [
        "#### RECAP ####"
      ],
      "metadata": {
        "id": "bavnzor5FO9G"
      },
      "execution_count": 2,
      "outputs": []
    },
    {
      "cell_type": "code",
      "source": [
        "# Two types of DS?\n",
        "#1 prmitive \n",
        "#2 non-primitve"
      ],
      "metadata": {
        "id": "DdsIHL-OFb48"
      },
      "execution_count": 4,
      "outputs": []
    },
    {
      "cell_type": "code",
      "source": [
        "## primitive >> store only 1 value at a time\n",
        "#str\n",
        "#int\n",
        "#float\n",
        "#bool"
      ],
      "metadata": {
        "id": "isGBPjF9FeW1"
      },
      "execution_count": 5,
      "outputs": []
    },
    {
      "cell_type": "code",
      "source": [
        "### non-primitve\n",
        "\n",
        "# list  >> [], mutable, duplicates, ordered, can store any data type\n",
        "# tuple >> (), immutable, duplicates, ordered, can store any data type\n",
        "# set   >> {e1, e2, ...}, mutable, NO mutable, un-ordered, \n",
        "    # emptySet = set()\n",
        "    # a set can store anything that is NOT mutable\n",
        "# dict  >> {k:v, k:v, k:v, ...}"
      ],
      "metadata": {
        "id": "esi_RX0KF0ud"
      },
      "execution_count": null,
      "outputs": []
    },
    {
      "cell_type": "code",
      "source": [
        "## task\n",
        "### create 8 diffrent sets\n",
        "\n",
        "# str ✅\n",
        "# int ✅\n",
        "# float ✅\n",
        "# bool ✅\n",
        "myBoolSet = {True, False, 'True'}\n",
        "print(myBoolSet)\n",
        "# list ❌\n",
        "# tuple ✅\n",
        "# set ❌\n",
        "# dict ❌"
      ],
      "metadata": {
        "colab": {
          "base_uri": "https://localhost:8080/"
        },
        "id": "EIm8IewkIdtG",
        "outputId": "609efb72-f9fb-42b6-f5c8-374616cd2071"
      },
      "execution_count": 9,
      "outputs": [
        {
          "output_type": "stream",
          "name": "stdout",
          "text": [
            "{False, True, 'True'}\n"
          ]
        }
      ]
    },
    {
      "cell_type": "code",
      "source": [
        "#### END of RECAP ####"
      ],
      "metadata": {
        "id": "Y14yg5-aJOwW"
      },
      "execution_count": null,
      "outputs": []
    },
    {
      "cell_type": "code",
      "source": [
        "# dict\n",
        "lang = {'en':'english', 'fr':'french'}\n",
        "print(lang, type(lang))"
      ],
      "metadata": {
        "colab": {
          "base_uri": "https://localhost:8080/"
        },
        "id": "OrGppG5QKbpm",
        "outputId": "c486c5e8-d9b8-4873-d58b-a08e4bdc9685"
      },
      "execution_count": 11,
      "outputs": [
        {
          "output_type": "stream",
          "name": "stdout",
          "text": [
            "{'en': 'english', 'fr': 'french'} <class 'dict'>\n"
          ]
        }
      ]
    },
    {
      "cell_type": "code",
      "source": [
        "sameMeaning = {'pride':['delight','joy','honour']}\n",
        "print(sameMeaning, type(sameMeaning))\n",
        "\n",
        "# values inside a python dict can be absolutely anything"
      ],
      "metadata": {
        "colab": {
          "base_uri": "https://localhost:8080/"
        },
        "id": "jyIsUY0SKslF",
        "outputId": "44c0920e-e3f8-4338-ae40-8783c06907c4"
      },
      "execution_count": 12,
      "outputs": [
        {
          "output_type": "stream",
          "name": "stdout",
          "text": [
            "{'pride': ['delight', 'joy', 'honour']} <class 'dict'>\n"
          ]
        }
      ]
    },
    {
      "cell_type": "code",
      "source": [
        "emptyDict = {} # dict()\n",
        "print(emptyDict, type(emptyDict))"
      ],
      "metadata": {
        "colab": {
          "base_uri": "https://localhost:8080/"
        },
        "id": "KNei2Eh8LPG8",
        "outputId": "1bc4e2de-3127-42e9-f07e-ef664c9c0501"
      },
      "execution_count": 13,
      "outputs": [
        {
          "output_type": "stream",
          "name": "stdout",
          "text": [
            "{} <class 'dict'>\n"
          ]
        }
      ]
    },
    {
      "cell_type": "code",
      "source": [
        "lang = {'en':'english', 'fr':'french'}\n",
        "print(lang, type(lang))\n",
        "\n",
        "# read\n",
        "print(lang['en'])\n",
        "\n",
        "# adding\n",
        "lang['tl'] = 'telugu'\n",
        "print(lang)\n",
        "\n",
        "# updating\n",
        "lang['tl'] = 'tamil'\n",
        "print(lang)\n",
        "\n",
        "# in python dict keys are unique\n",
        "# if you try adding value to a key that doesnot exist it wiil update else it will add\n",
        "\n",
        "# del\n",
        "del lang['fr']\n",
        "print(lang)"
      ],
      "metadata": {
        "colab": {
          "base_uri": "https://localhost:8080/"
        },
        "id": "4qC1efKKLYz4",
        "outputId": "901b4db6-9065-44c2-b301-b619231ec37b"
      },
      "execution_count": 17,
      "outputs": [
        {
          "output_type": "stream",
          "name": "stdout",
          "text": [
            "{'en': 'english', 'fr': 'french'} <class 'dict'>\n",
            "english\n",
            "{'en': 'english', 'fr': 'french', 'tl': 'telugu'}\n",
            "{'en': 'english', 'fr': 'french', 'tl': 'tamil'}\n",
            "{'en': 'english', 'tl': 'tamil'}\n"
          ]
        }
      ]
    },
    {
      "cell_type": "code",
      "source": [
        "lang = {'en':'english', 'fr':'french'}\n",
        "print(lang, type(lang))\n",
        "\n",
        "if 'pb' in lang:\n",
        "    print(lang['pb'])\n",
        "else:\n",
        "    print('Not found')\n",
        "\n",
        "print(lang.get('pb','Not found'))"
      ],
      "metadata": {
        "colab": {
          "base_uri": "https://localhost:8080/"
        },
        "id": "dnVvE3KJNFeY",
        "outputId": "0b02f647-ecad-498c-8668-e90234a85f60"
      },
      "execution_count": 21,
      "outputs": [
        {
          "output_type": "stream",
          "name": "stdout",
          "text": [
            "{'en': 'english', 'fr': 'french'} <class 'dict'>\n",
            "Not found\n",
            "Not found\n"
          ]
        }
      ]
    },
    {
      "cell_type": "code",
      "source": [
        "lang = {'en':'english', 'fr':'french', 'cn':'chinese'}\n",
        "print(lang, type(lang))"
      ],
      "metadata": {
        "colab": {
          "base_uri": "https://localhost:8080/"
        },
        "id": "gmXfZ7KKNIJM",
        "outputId": "c1340314-baa2-4c03-c9ff-be2e1bd06ebb"
      },
      "execution_count": 22,
      "outputs": [
        {
          "output_type": "stream",
          "name": "stdout",
          "text": [
            "{'en': 'english', 'fr': 'french', 'cn': 'chinese'} <class 'dict'>\n"
          ]
        }
      ]
    },
    {
      "cell_type": "code",
      "source": [
        "for l in lang:\n",
        "    print(l, lang[l])"
      ],
      "metadata": {
        "colab": {
          "base_uri": "https://localhost:8080/"
        },
        "id": "mIAuPnXSN0Ha",
        "outputId": "58eb09df-374a-4082-9bee-217407b459a0"
      },
      "execution_count": 24,
      "outputs": [
        {
          "output_type": "stream",
          "name": "stdout",
          "text": [
            "en english\n",
            "fr french\n",
            "cn chinese\n"
          ]
        }
      ]
    },
    {
      "cell_type": "code",
      "source": [
        "# keys\n",
        "print(lang.keys())\n",
        "for key in lang.keys():\n",
        "    print(key)\n",
        "print(list(lang.keys()))"
      ],
      "metadata": {
        "colab": {
          "base_uri": "https://localhost:8080/"
        },
        "id": "vsJt3fKlN3vO",
        "outputId": "faa45759-368b-4915-840e-285f981a9d57"
      },
      "execution_count": 27,
      "outputs": [
        {
          "output_type": "stream",
          "name": "stdout",
          "text": [
            "dict_keys(['en', 'fr', 'cn'])\n",
            "en\n",
            "fr\n",
            "cn\n",
            "['en', 'fr', 'cn']\n"
          ]
        }
      ]
    },
    {
      "cell_type": "code",
      "source": [
        "# values\n",
        "print(lang.values())\n",
        "for value in lang.values():\n",
        "    print(value)\n",
        "print(list(lang.values()))"
      ],
      "metadata": {
        "colab": {
          "base_uri": "https://localhost:8080/"
        },
        "id": "Q1uF1rvaOQr0",
        "outputId": "22ca542e-a1e3-4cb2-f8a9-d7e68b42038b"
      },
      "execution_count": 28,
      "outputs": [
        {
          "output_type": "stream",
          "name": "stdout",
          "text": [
            "dict_values(['english', 'french', 'chinese'])\n",
            "english\n",
            "french\n",
            "chinese\n",
            "['english', 'french', 'chinese']\n"
          ]
        }
      ]
    },
    {
      "cell_type": "code",
      "source": [
        "# items\n",
        "print(lang.items())\n",
        "print(list(lang.items()))"
      ],
      "metadata": {
        "colab": {
          "base_uri": "https://localhost:8080/"
        },
        "id": "Iugzu55AOiy8",
        "outputId": "5560136b-5b90-4612-98b4-3aacebfc274c"
      },
      "execution_count": 30,
      "outputs": [
        {
          "output_type": "stream",
          "name": "stdout",
          "text": [
            "dict_items([('en', 'english'), ('fr', 'french'), ('cn', 'chinese')])\n",
            "[('en', 'english'), ('fr', 'french'), ('cn', 'chinese')]\n"
          ]
        }
      ]
    },
    {
      "cell_type": "code",
      "source": [
        "for l in lang.items():\n",
        "    print(l)"
      ],
      "metadata": {
        "colab": {
          "base_uri": "https://localhost:8080/"
        },
        "id": "65t95EFkOuYb",
        "outputId": "df77ce1c-8895-41c0-e5ea-3a19b27f78ae"
      },
      "execution_count": 31,
      "outputs": [
        {
          "output_type": "stream",
          "name": "stdout",
          "text": [
            "('en', 'english')\n",
            "('fr', 'french')\n",
            "('cn', 'chinese')\n"
          ]
        }
      ]
    },
    {
      "cell_type": "code",
      "source": [
        "for l in lang.items():\n",
        "    key, value = l\n",
        "    print(key, value)"
      ],
      "metadata": {
        "colab": {
          "base_uri": "https://localhost:8080/"
        },
        "id": "sz7ajYL6PD7L",
        "outputId": "52af75d1-4487-43a8-eff3-002ceb6ba8d7"
      },
      "execution_count": 32,
      "outputs": [
        {
          "output_type": "stream",
          "name": "stdout",
          "text": [
            "en english\n",
            "fr french\n",
            "cn chinese\n"
          ]
        }
      ]
    },
    {
      "cell_type": "code",
      "source": [
        "for key, value in lang.items():\n",
        "    print(key, value)"
      ],
      "metadata": {
        "colab": {
          "base_uri": "https://localhost:8080/"
        },
        "id": "5X8cOnl-PV1e",
        "outputId": "35785036-3826-4d86-e08a-00514c01bcb0"
      },
      "execution_count": 33,
      "outputs": [
        {
          "output_type": "stream",
          "name": "stdout",
          "text": [
            "en english\n",
            "fr french\n",
            "cn chinese\n"
          ]
        }
      ]
    },
    {
      "cell_type": "code",
      "source": [
        "# keys in a python dict can store anything that is NOT mutable"
      ],
      "metadata": {
        "id": "RT78tjgtPYLi"
      },
      "execution_count": null,
      "outputs": []
    },
    {
      "cell_type": "code",
      "source": [
        "name = 'Ronaldo'\n",
        "teams = ('rm','ju','mu','saudi')\n",
        "# what is the first char of the name? >> R\n",
        "print(name[0])\n",
        "# what is the last team he played for? >> 'saudi'\n",
        "print(teams[-1])\n",
        "# what is the name in reverse? >> odlanoR\n",
        "print(name [::-1])"
      ],
      "metadata": {
        "colab": {
          "base_uri": "https://localhost:8080/"
        },
        "id": "c2UkbHURQWwo",
        "outputId": "edb4ae4d-411b-4650-957c-00d61d9e5970"
      },
      "execution_count": 36,
      "outputs": [
        {
          "output_type": "stream",
          "name": "stdout",
          "text": [
            "R\n",
            "saudi\n",
            "odlanoR\n"
          ]
        }
      ]
    },
    {
      "cell_type": "code",
      "source": [
        "# HANDS ON"
      ],
      "metadata": {
        "id": "HMscxZxRRKO1"
      },
      "execution_count": 37,
      "outputs": []
    },
    {
      "cell_type": "code",
      "source": [
        "#1 What is 7 raise to the power 4 >> 7^4\n",
        "print(7*7*7*7, 7**4)"
      ],
      "metadata": {
        "colab": {
          "base_uri": "https://localhost:8080/"
        },
        "id": "0iRseMrpRw38",
        "outputId": "37556ffb-cfa6-48c0-a827-919c96a3ec76"
      },
      "execution_count": 39,
      "outputs": [
        {
          "output_type": "stream",
          "name": "stdout",
          "text": [
            "2401 2401\n"
          ]
        }
      ]
    },
    {
      "cell_type": "code",
      "source": [
        "#2 Using string formatting print: diameter of earth is 12734\n",
        "planet = 'earth'\n",
        "diameter = 12734\n",
        "# 1st write your str\n",
        "print('diameter of earth is 12734')\n",
        "# 2nd replace the data with var\n",
        "print('diameter of planet is diameter')\n",
        "# 3rd put the variables inside {}\n",
        "print('diameter of {planet} is {diameter}')\n",
        "# 4th add f in-front of quotes\n",
        "print(f'diameter of {planet} is {diameter}')"
      ],
      "metadata": {
        "colab": {
          "base_uri": "https://localhost:8080/"
        },
        "id": "qhyHX5GbSD4y",
        "outputId": "75c14cee-4961-4414-c4da-722ffd837758"
      },
      "execution_count": 40,
      "outputs": [
        {
          "output_type": "stream",
          "name": "stdout",
          "text": [
            "diameter of earth is 12734\n",
            "diameter of planet is diameter\n",
            "diameter of {planet} is {diameter}\n",
            "diameter of earth is 12734\n"
          ]
        }
      ]
    },
    {
      "cell_type": "code",
      "source": [
        "planet = 'mars'\n",
        "diameter = 123456789\n",
        "print(f'diameter of {planet} is {diameter}')"
      ],
      "metadata": {
        "colab": {
          "base_uri": "https://localhost:8080/"
        },
        "id": "_CSfmoVeSs4W",
        "outputId": "b913f78a-6ff6-45a7-8aa1-ef1f982ddced"
      },
      "execution_count": 41,
      "outputs": [
        {
          "output_type": "stream",
          "name": "stdout",
          "text": [
            "diameter of mars is 123456789\n"
          ]
        }
      ]
    },
    {
      "cell_type": "code",
      "source": [
        "#3 splitting strings into a list\n",
        "s = 'this is python programming'\n",
        "\n",
        "print(s.split('i'))\n",
        "print(s.split(' '))\n",
        "print(s.split())"
      ],
      "metadata": {
        "colab": {
          "base_uri": "https://localhost:8080/"
        },
        "id": "AlH_PoBVS0Or",
        "outputId": "af30d5eb-c529-4f57-f975-0be018cd9330"
      },
      "execution_count": 44,
      "outputs": [
        {
          "output_type": "stream",
          "name": "stdout",
          "text": [
            "['th', 's ', 's python programm', 'ng']\n",
            "['this', 'is', 'python', 'programming']\n",
            "['this', 'is', 'python', 'programming']\n"
          ]
        }
      ]
    },
    {
      "cell_type": "code",
      "source": [
        "#4 get all the words in the string that contain *\n",
        "# hint split and then use a loop\n",
        "giftBox = 'bread iph*one butter ip*ad milk'\n",
        "# iph*one\n",
        "# ip*ad\n",
        "\n",
        "# 1 break the str into list of words\n",
        "giftBoxList = giftBox.split()\n",
        "print(giftBoxList)\n",
        "# 2 loop over and print all the words\n",
        "for item in giftBoxList:\n",
        "    if '*' in item: # 3 check and only print if * in the word\n",
        "        print(item)\n"
      ],
      "metadata": {
        "colab": {
          "base_uri": "https://localhost:8080/"
        },
        "id": "ZH1duJ9qTWit",
        "outputId": "4d1e7fde-a17f-4d21-9875-1e7e5f886a1b"
      },
      "execution_count": 47,
      "outputs": [
        {
          "output_type": "stream",
          "name": "stdout",
          "text": [
            "['bread', 'iph*one', 'butter', 'ip*ad', 'milk']\n",
            "iph*one\n",
            "ip*ad\n"
          ]
        }
      ]
    },
    {
      "cell_type": "code",
      "source": [
        "#5 filter colors starting with vowel a, e, i, o, u\n",
        "colors = 'red orange blue indigo green'\n",
        "# orange\n",
        "# indigo\n",
        "\n",
        "# 1 get the colors seperated\n",
        "colorsList = colors.split()\n",
        "print(colorsList)\n",
        "# 2 loop and print all the colors\n",
        "for color in colorsList:\n",
        "    if color[0] in {\"a\",\"e\",'i','o','u'}: # 4 only print, if the first char is in  \"aeiou\"\n",
        "        print(color, color[0]) # 3 get the first char of the color"
      ],
      "metadata": {
        "colab": {
          "base_uri": "https://localhost:8080/"
        },
        "id": "fzoBen9hV-lK",
        "outputId": "b4a03189-8865-4880-ba28-4e9244fad59a"
      },
      "execution_count": 50,
      "outputs": [
        {
          "output_type": "stream",
          "name": "stdout",
          "text": [
            "['red', 'orange', 'blue', 'indigo', 'green']\n",
            "orange o\n",
            "indigo i\n"
          ]
        }
      ]
    },
    {
      "cell_type": "code",
      "source": [
        "## 6 While loops\n",
        "\n",
        "meter = 1\n",
        "\n",
        "# keep shouting value of meter as long as it is <=5\n",
        "while meter<=5:\n",
        "    print(meter)\n",
        "    meter = meter + 1\n",
        "print('at the end meter was', meter)"
      ],
      "metadata": {
        "colab": {
          "base_uri": "https://localhost:8080/"
        },
        "id": "cCtDzXZ-YM0D",
        "outputId": "0f048b2a-266e-46b1-e6fa-ffcea9fe9e82"
      },
      "execution_count": 53,
      "outputs": [
        {
          "output_type": "stream",
          "name": "stdout",
          "text": [
            "1\n",
            "2\n",
            "3\n",
            "4\n",
            "5\n",
            "at the end meter was 6\n"
          ]
        }
      ]
    },
    {
      "cell_type": "code",
      "source": [
        "# 7 Given a nested dict, grab and print 'hello'\n",
        "# use indexes, dict keys and splitting of strings\n",
        "dct = {'here':[1,2,3,{'target':(False,{'color':'black','greetings':['hello world']})}]}\n",
        "print(dct['here'][3]['target'][1]['greetings'][0].split()[0])"
      ],
      "metadata": {
        "colab": {
          "base_uri": "https://localhost:8080/"
        },
        "id": "y-ubWafWfj7E",
        "outputId": "a0bc48f6-4650-4106-b90f-b504b90e7361"
      },
      "execution_count": 62,
      "outputs": [
        {
          "output_type": "stream",
          "name": "stdout",
          "text": [
            "hello\n"
          ]
        }
      ]
    },
    {
      "cell_type": "code",
      "source": [
        "# 8 Guess the number\n",
        "# generate a random between 1-10 and store it\n",
        "# then ask the user to enter a number \n",
        "# if the user choice is greater than computer choice say 'too high'\n",
        "# if the user choice is smaller than computer choice say 'too low'\n",
        "# if the user choice is equal to computer choice say 'correct guess'\n",
        "# BONUS points: allow user a max of 3 guesses\n",
        "# will need: use google to learn how to generate a random number between 1-10\n",
        "\n",
        "import random\n",
        "computer_choice = random.randint(1,10)\n",
        "# print(computer_choice)\n",
        "\n",
        "meter = 1\n",
        "while meter<=3:\n",
        "    user_input = int(input(\"Guess the number between 1-10: \"))\n",
        "    if user_input>computer_choice:\n",
        "        print('too high')\n",
        "    elif user_input<computer_choice:\n",
        "        print('too low')\n",
        "    else:\n",
        "        print('You WON, correct guess!!')\n",
        "        break\n",
        "    meter = meter + 1\n",
        "if meter == 4:\n",
        "    print('You LOST, correct guess was', computer_choice)\n",
        "    print('Better luck next time!!', \"Try again, if you are jobless\")"
      ],
      "metadata": {
        "colab": {
          "base_uri": "https://localhost:8080/"
        },
        "id": "S3uCg7xOiU7C",
        "outputId": "b5e9995e-a9d4-483d-bf53-26b82a9fd68e"
      },
      "execution_count": 69,
      "outputs": [
        {
          "output_type": "stream",
          "name": "stdout",
          "text": [
            "Guess the number between 1-10: 5\n",
            "too low\n",
            "Guess the number between 1-10: 5\n",
            "too low\n",
            "Guess the number between 1-10: 5\n",
            "too low\n",
            "You LOST, correct guess was 9\n",
            "Better luck next time!!\n"
          ]
        }
      ]
    },
    {
      "cell_type": "code",
      "source": [
        "meter = 1\n",
        "\n",
        "# keep shouting value of meter as long as it is <=5\n",
        "while meter<=3:\n",
        "    print(meter)\n",
        "    meter = meter + 1\n",
        "print('at the end meter was', meter)"
      ],
      "metadata": {
        "colab": {
          "base_uri": "https://localhost:8080/"
        },
        "id": "uueMCch_j12q",
        "outputId": "4fdb2ba8-b998-4f3b-f1ed-95cbc1daa824"
      },
      "execution_count": 67,
      "outputs": [
        {
          "output_type": "stream",
          "name": "stdout",
          "text": [
            "1\n",
            "2\n",
            "3\n",
            "at the end meter was 4\n"
          ]
        }
      ]
    },
    {
      "cell_type": "code",
      "source": [
        "# range\n",
        "print(\">> range(end)>> 0,1... end-1, end is NOT included\")\n",
        "for i in range(5):\n",
        "    print(i)\n",
        "\n",
        "print(\">> range(start,end)>> start,start+1... end-1, end is NOT included\")\n",
        "for i in range(2,5):\n",
        "    print(i)\n",
        "\n",
        "print(\">> range(start,end, step)>> start,start+step... till end, end is still NOT included\")\n",
        "for i in range(2,15,3):\n",
        "    print(i)"
      ],
      "metadata": {
        "colab": {
          "base_uri": "https://localhost:8080/"
        },
        "id": "dF4DlLY2n2rJ",
        "outputId": "b0d57f43-4c7c-497e-d5d4-e374e933a3be"
      },
      "execution_count": 72,
      "outputs": [
        {
          "output_type": "stream",
          "name": "stdout",
          "text": [
            ">> range(end)>> 0,1... end-1, end is NOT included\n",
            "0\n",
            "1\n",
            "2\n",
            "3\n",
            "4\n",
            ">> range(start,end)>> start,start+1... end-1, end is NOT included\n",
            "2\n",
            "3\n",
            "4\n",
            ">> range(start,end, step)>> start,start+step... till end, end is still NOT included\n",
            "2\n",
            "5\n",
            "8\n",
            "11\n",
            "14\n"
          ]
        }
      ]
    },
    {
      "cell_type": "code",
      "source": [
        "for i in range(3):\n",
        "    print(i)"
      ],
      "metadata": {
        "colab": {
          "base_uri": "https://localhost:8080/"
        },
        "id": "bOlCljGkoiZL",
        "outputId": "3a384e10-8552-490e-b8cb-8da671cb0de1"
      },
      "execution_count": 73,
      "outputs": [
        {
          "output_type": "stream",
          "name": "stdout",
          "text": [
            "0\n",
            "1\n",
            "2\n"
          ]
        }
      ]
    },
    {
      "cell_type": "code",
      "source": [
        "#9 coding number guessing game using for loop and range()\n",
        "import random\n",
        "computer_choice = random.randint(1,10)\n",
        "# print(computer_choice)\n",
        "\n",
        "for i in range(3):\n",
        "    user_input = int(input(\"Guess the number between 1-10: \"))\n",
        "    if user_input>computer_choice:\n",
        "        print('too high')\n",
        "    elif user_input<computer_choice:\n",
        "        print('too low')\n",
        "    else:\n",
        "        print('You WON, correct guess!!')\n",
        "        break\n",
        "else: # this else will only run if the above for loop never breaks\n",
        "    print('You LOST, correct guess was', computer_choice)\n",
        "    print('Better luck next time!!', \"Try again, if you are jobless\")"
      ],
      "metadata": {
        "colab": {
          "base_uri": "https://localhost:8080/"
        },
        "id": "7GRX7_ShoosP",
        "outputId": "5b0b3c9c-5018-41fe-e8fc-bd9f7b81aef6"
      },
      "execution_count": 75,
      "outputs": [
        {
          "output_type": "stream",
          "name": "stdout",
          "text": [
            "Guess the number between 1-10: 5\n",
            "too high\n",
            "Guess the number between 1-10: 2\n",
            "You WON, correct guess!!\n"
          ]
        }
      ]
    },
    {
      "cell_type": "code",
      "source": [
        "# maths\n",
        "print(5+3)\n",
        "print(5-3)\n",
        "print(5*3)\n",
        "print(5/3)\n",
        "print(5**3)"
      ],
      "metadata": {
        "colab": {
          "base_uri": "https://localhost:8080/"
        },
        "id": "QmMM-CD_pzzU",
        "outputId": "2f8fdb03-a75b-4072-aa96-c3b0ede6fd03"
      },
      "execution_count": 76,
      "outputs": [
        {
          "output_type": "stream",
          "name": "stdout",
          "text": [
            "8\n",
            "2\n",
            "15\n",
            "1.6666666666666667\n",
            "125\n"
          ]
        }
      ]
    },
    {
      "cell_type": "code",
      "source": [
        "# modulous >> %\n",
        "# it gives you remainder of the division\n",
        "print(5%2)\n",
        "print(15%3)\n",
        "print(25%7)"
      ],
      "metadata": {
        "colab": {
          "base_uri": "https://localhost:8080/"
        },
        "id": "qheVg3mgp88c",
        "outputId": "c5ebca9f-7170-4e3d-9e07-8b6450ea2a8a"
      },
      "execution_count": 79,
      "outputs": [
        {
          "output_type": "stream",
          "name": "stdout",
          "text": [
            "1\n",
            "0\n",
            "4\n"
          ]
        }
      ]
    },
    {
      "cell_type": "code",
      "source": [
        "# floor division >> //\n",
        "# this gives the largest integer, smaller or equal to the value\n",
        "\n",
        "print(5/2, 5//2)\n",
        "print(5/3, 5//3)\n",
        "print(-7/2, -7//2)"
      ],
      "metadata": {
        "colab": {
          "base_uri": "https://localhost:8080/"
        },
        "id": "jILvAYfRqVTN",
        "outputId": "d8eab046-17fc-488e-cd97-73d8818bf8e1"
      },
      "execution_count": 82,
      "outputs": [
        {
          "output_type": "stream",
          "name": "stdout",
          "text": [
            "2.5 2\n",
            "1.6666666666666667 1\n",
            "-3.5 -4\n"
          ]
        }
      ]
    },
    {
      "cell_type": "code",
      "source": [
        "#10 check if an integer input by the user is even OR odd\n",
        "num = int(input('User enter an integer: '))\n",
        "if num%2==0:\n",
        "    print('even')\n",
        "else:\n",
        "    print('odd')"
      ],
      "metadata": {
        "colab": {
          "base_uri": "https://localhost:8080/"
        },
        "id": "sZ08YSFErMEo",
        "outputId": "8cb9a86e-2330-41db-e55b-cddbebf7b74c"
      },
      "execution_count": 86,
      "outputs": [
        {
          "output_type": "stream",
          "name": "stdout",
          "text": [
            "User enter an integer: 0\n",
            "even\n"
          ]
        }
      ]
    }
  ]
}